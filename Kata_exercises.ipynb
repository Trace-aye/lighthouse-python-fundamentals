{
 "cells": [
  {
   "cell_type": "markdown",
   "id": "025e47ab",
   "metadata": {},
   "source": [
    "## Exercise 1: Sum largest numbers in list "
   ]
  },
  {
   "cell_type": "code",
   "execution_count": 9,
   "id": "8fd872e6",
   "metadata": {
    "scrolled": true
   },
   "outputs": [
    {
     "name": "stdout",
     "output_type": "stream",
     "text": [
      "11\n",
      "5\n",
      "126\n",
      "Not enough elements in list\n",
      "Not enough elements in list\n"
     ]
    }
   ],
   "source": [
    "def sumLargestNumbers(num_list):\n",
    "    \n",
    "    import numpy as np\n",
    "    \n",
    "    if len(num_list) < 2:\n",
    "        return \"Not enough elements in list\"\n",
    "    else:\n",
    "        # sort list\n",
    "        sorted_list = np.sort(num_list)\n",
    "        return sorted_list[-1] + sorted_list[-2]\n",
    "    \n",
    "\n",
    "\n",
    "print(sumLargestNumbers([1, 10]))\n",
    "print(sumLargestNumbers([1, 2, 3]))\n",
    "print(sumLargestNumbers([10, 4, 34, 6, 92, 2]))\n",
    "print(sumLargestNumbers([1]))\n",
    "print(sumLargestNumbers([]))"
   ]
  },
  {
   "cell_type": "markdown",
   "id": "10f16855",
   "metadata": {},
   "source": [
    "## Exercise 2: Sum values that match given condition"
   ]
  },
  {
   "cell_type": "code",
   "execution_count": 13,
   "id": "9b5a5113",
   "metadata": {},
   "outputs": [
    {
     "name": "stdout",
     "output_type": "stream",
     "text": [
      "6\n",
      "9\n",
      "144\n",
      "0\n"
     ]
    }
   ],
   "source": [
    "def conditionalSum(values, condition):\n",
    "    \n",
    "    import numpy as np\n",
    "    \n",
    "    # Match condition\n",
    "    vals_arr = np.array(values)\n",
    "    if condition == \"even\":\n",
    "        selected_vals = vals_arr[vals_arr % 2==0]\n",
    "    elif condition == \"odd\":\n",
    "        selected_vals = vals_arr[vals_arr % 2==1]\n",
    "    else:\n",
    "        selected_vals = []\n",
    "    \n",
    "    # Sum selected values\n",
    "    total = 0\n",
    "    for val in selected_vals:\n",
    "        total = total + val\n",
    "        \n",
    "    return total\n",
    "\n",
    "\n",
    "print(conditionalSum([1, 2, 3, 4, 5], \"even\"))\n",
    "print(conditionalSum([1, 2, 3, 4, 5], \"odd\"))\n",
    "print(conditionalSum([13, 88, 12, 44, 99], \"even\"))\n",
    "print(conditionalSum([], \"odd\"))"
   ]
  },
  {
   "cell_type": "markdown",
   "id": "7a8fc1ca",
   "metadata": {},
   "source": [
    "## Exercise 3: Recieve a string and return the number of vowels"
   ]
  },
  {
   "cell_type": "code",
   "execution_count": 15,
   "id": "84664475",
   "metadata": {},
   "outputs": [
    {
     "name": "stdout",
     "output_type": "stream",
     "text": [
      "3\n",
      "5\n",
      "5\n"
     ]
    }
   ],
   "source": [
    "def numberOfVowels(data):\n",
    "    \n",
    "    total = 0\n",
    "    for char in data:\n",
    "        if char in \"aeiou\":\n",
    "            total = total + 1\n",
    "        \n",
    "    return total\n",
    "\n",
    "\n",
    "print(numberOfVowels(\"orange\"))\n",
    "print(numberOfVowels(\"lighthouse labs\"))\n",
    "print(numberOfVowels(\"aeiou\"))"
   ]
  },
  {
   "cell_type": "markdown",
   "id": "c1cfc3ae",
   "metadata": {},
   "source": [
    "## Exercise 4: Return the longest name"
   ]
  },
  {
   "cell_type": "code",
   "execution_count": 29,
   "id": "94ec8960",
   "metadata": {},
   "outputs": [
    {
     "name": "stdout",
     "output_type": "stream",
     "text": [
      "{'name': 'Jeremiah', 'course': 'Data'}\n",
      "{'name': 'Domascus', 'course': 'Web'}\n"
     ]
    }
   ],
   "source": [
    "def instructorWithLongestName(instructors):\n",
    "    \n",
    "    longest_name = \"\"\n",
    "    for x in range(len(instructors)):\n",
    "        curr_name = instructors[x][\"name\"]\n",
    "        if len(curr_name) > len(longest_name):\n",
    "            longest_name = curr_name\n",
    "            longest_dict = instructors[x]\n",
    "            \n",
    "    return longest_dict\n",
    "\n",
    "print(instructorWithLongestName([\n",
    "  {\"name\": \"Samuel\", \"course\": \"iOS\"},\n",
    "  {\"name\": \"Jeremiah\", \"course\": \"Data\"},\n",
    "  {\"name\": \"Ophilia\", \"course\": \"Web\"},\n",
    "  {\"name\": \"Donald\", \"course\": \"Web\"}\n",
    "]))\n",
    "print(instructorWithLongestName([\n",
    "  {\"name\": \"Matthew\", \"course\": \"Data\"},\n",
    "  {\"name\": \"David\", \"course\": \"iOS\"},\n",
    "  {\"name\": \"Domascus\", \"course\": \"Web\"}\n",
    "]))"
   ]
  },
  {
   "cell_type": "markdown",
   "id": "5bd079e0",
   "metadata": {},
   "source": [
    "## Exercise 5: Encode spaces in string"
   ]
  },
  {
   "cell_type": "code",
   "execution_count": 33,
   "id": "d035a2bf",
   "metadata": {},
   "outputs": [
    {
     "name": "stdout",
     "output_type": "stream",
     "text": [
      "Lighthouse%20Labs\n",
      "Lighthouse%20Labs\n",
      "blue%20is%20greener%20than%20purple%20for%20sure\n"
     ]
    }
   ],
   "source": [
    "def urlEncode(text):\n",
    "    \n",
    "    encoded_text = \"\"\n",
    "    for char in text.strip():\n",
    "        if char == \" \":\n",
    "            encoded_text = encoded_text + \"%20\"\n",
    "        else:\n",
    "            encoded_text = encoded_text + char\n",
    "            \n",
    "    return encoded_text\n",
    "\n",
    "\n",
    "print(urlEncode(\"Lighthouse Labs\"))\n",
    "print(urlEncode(\" Lighthouse Labs  \"))\n",
    "print(urlEncode(\"blue is greener than purple for sure\"))"
   ]
  },
  {
   "cell_type": "markdown",
   "id": "5fb0b7da",
   "metadata": {},
   "source": [
    "## Exercise 6: Find parking"
   ]
  },
  {
   "cell_type": "code",
   "execution_count": 70,
   "id": "4a9b5569",
   "metadata": {},
   "outputs": [
    {
     "name": "stdout",
     "output_type": "stream",
     "text": [
      "[4, 0]\n",
      "False\n",
      "[3, 1]\n"
     ]
    }
   ],
   "source": [
    "import numpy as np\n",
    "    \n",
    "def whereCanIPark(spots, vehicle):\n",
    "    \n",
    "    x = np.array([0])\n",
    "    y = np.array([0])\n",
    "    spots_arr = np.array(spots)\n",
    "    if vehicle == 'regular':\n",
    "        y, x = checkSpots(spots_arr, ['R'])\n",
    "    elif vehicle == 'small':\n",
    "        y, x = checkSpots(spots_arr, ['S', 'R'])\n",
    "    elif vehicle == 'motorcycle':\n",
    "        y, x = checkSpots(spots_arr, ['S', 'M', 'R'])\n",
    "    else:\n",
    "        return False\n",
    "    if x.size > 0:\n",
    "        return [x[0],y[0]]\n",
    "    else:\n",
    "        return False\n",
    "    \n",
    "def checkSpots(spots_arr, valid_type):\n",
    "    for type in valid_type:\n",
    "        spot = np.where(spots_arr == type)\n",
    "        if len(spot) > 0:\n",
    "            return spot\n",
    "    return spot\n",
    "\n",
    "print(whereCanIPark(\n",
    "  [\n",
    "    # COLUMNS ARE X\n",
    "    # 0    1    2    3    4    5\n",
    "    ['s', 's', 's', 'S', 'R', 'M'], # 0 ROWS ARE Y\n",
    "    ['s', 'M', 's', 'S', 'r', 'M'], # 1\n",
    "    ['s', 'M', 's', 'S', 'r', 'm'], # 2\n",
    "    ['S', 'r', 's', 'm', 'r', 'M'], # 3\n",
    "    ['S', 'r', 's', 'm', 'r', 'M'], # 4\n",
    "    ['S', 'r', 'S', 'M', 'M', 'S']  # 5\n",
    "  ],\n",
    "  'regular'\n",
    "))\n",
    "\n",
    "print(whereCanIPark(\n",
    "  [\n",
    "    ['M', 'M', 'M', 'M'],\n",
    "    ['M', 's', 'M', 'M'],\n",
    "    ['M', 'M', 'M', 'M'],\n",
    "    ['M', 'M', 'r', 'M']\n",
    "  ],\n",
    "  'small'\n",
    "))\n",
    "\n",
    "print(whereCanIPark(\n",
    "  [\n",
    "    ['s', 's', 's', 's', 's', 's'],\n",
    "    ['s', 'm', 's', 'S', 'r', 's'],\n",
    "    ['s', 'm', 's', 'S', 'r', 's'],\n",
    "    ['S', 'r', 's', 'm', 'r', 's'],\n",
    "    ['S', 'r', 's', 'm', 'R', 's'],\n",
    "    ['S', 'r', 'S', 'M', 'm', 'S']\n",
    "  ],\n",
    "  'motorcycle'\n",
    "))"
   ]
  },
  {
   "cell_type": "markdown",
   "id": "0e25cb24",
   "metadata": {},
   "source": [
    "## Exercise 7: Check pollution"
   ]
  },
  {
   "cell_type": "code",
   "execution_count": 76,
   "id": "52ffa07d",
   "metadata": {},
   "outputs": [
    {
     "name": "stdout",
     "output_type": "stream",
     "text": [
      "Polluted\n",
      "Polluted\n",
      "Clean\n"
     ]
    }
   ],
   "source": [
    "def checkAir(samples, threshold):\n",
    "    \n",
    "    import numpy as np\n",
    "    \n",
    "    # Get number of samples\n",
    "    sample_arr = np.array(samples)\n",
    "    num_samples = sample_arr.size\n",
    "    \n",
    "    # Get number of dirty samples\n",
    "    num_dirty = sample_arr[sample_arr == 'dirty'].size\n",
    "    \n",
    "    # Check % against threshold\n",
    "    return ('Polluted' if num_dirty/num_samples > threshold else 'Clean')\n",
    "\n",
    "\n",
    "print(checkAir(\n",
    "  ['clean', 'clean', 'dirty', 'clean', 'dirty', 'clean', 'clean', 'dirty', 'clean', 'dirty'],\n",
    "  0.3\n",
    "))\n",
    "\n",
    "print(checkAir(\n",
    "  ['dirty', 'dirty', 'dirty', 'dirty', 'clean'],\n",
    "  0.25\n",
    "))\n",
    "\n",
    "print(checkAir(\n",
    "  ['clean', 'dirty', 'clean', 'dirty', 'clean', 'dirty', 'clean'],\n",
    "  0.9\n",
    "))"
   ]
  },
  {
   "cell_type": "code",
   "execution_count": null,
   "id": "bea9320d",
   "metadata": {},
   "outputs": [],
   "source": []
  }
 ],
 "metadata": {
  "kernelspec": {
   "display_name": "Python 3",
   "language": "python",
   "name": "python3"
  },
  "language_info": {
   "codemirror_mode": {
    "name": "ipython",
    "version": 3
   },
   "file_extension": ".py",
   "mimetype": "text/x-python",
   "name": "python",
   "nbconvert_exporter": "python",
   "pygments_lexer": "ipython3",
   "version": "3.8.8"
  }
 },
 "nbformat": 4,
 "nbformat_minor": 5
}
