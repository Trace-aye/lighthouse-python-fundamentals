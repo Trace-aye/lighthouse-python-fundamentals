{
 "cells": [
  {
   "cell_type": "markdown",
   "id": "9751c6c8-a69a-4ce2-9b90-7342d33c516a",
   "metadata": {},
   "source": [
    "## Conditional probability example"
   ]
  },
  {
   "cell_type": "markdown",
   "id": "5d2bff42-b5e4-43a7-867a-33c1b082d88d",
   "metadata": {},
   "source": [
    "### You are off to soccer and want to be the goalkeeper but that depends on who will be coaching today:\n",
    "\n",
    "#### with coach Sam, the probability of being the goalkeeper is 0.5\n",
    "#### with coach Alex, the probability of being the goalkeeper is 0.3\n",
    "#### You also know that Sam coaches more often – about six out of every ten games (a probability of 0.6).\n",
    "\n",
    "#### So, what is the probability that you will be the goalkeeper today?"
   ]
  },
  {
   "cell_type": "code",
   "execution_count": 2,
   "id": "0c56f71c-5924-4346-8836-1184ddc87958",
   "metadata": {},
   "outputs": [],
   "source": [
    "# import numpy \n",
    "import numpy as np\n",
    "\n",
    "# how many times we run the simulation\n",
    "n_runs = 100000\n",
    "\n",
    "# initialize variables\n",
    "SAM = 0\n",
    "SAM_YES = 0\n",
    "SAM_NO = 0\n",
    "ALEX = 0\n",
    "ALEX_YES = 0\n",
    "ALEX_NO = 0\n",
    "YES = 0\n",
    "NO = 0"
   ]
  },
  {
   "cell_type": "code",
   "execution_count": 3,
   "id": "0d5d8421-ec0a-4a3b-8c3f-2d971045cec5",
   "metadata": {},
   "outputs": [],
   "source": [
    "# process simulation\n",
    "for _ in range(n_runs):\n",
    "    # Sam (probability of Sam being the coach)\n",
    "    if np.random.random() < 0.6: \n",
    "        SAM += 1\n",
    "\n",
    "        # YES\n",
    "        if np.random.random() < 0.5:\n",
    "            SAM_YES += 1\n",
    "            YES +=1\n",
    "\n",
    "        # NO\n",
    "        else:\n",
    "            SAM_NO += 1\n",
    "            NO += 1\n",
    "\n",
    "    #Alex (probability of Alex being the coach)\n",
    "    else:\n",
    "        ALEX += 1\n",
    "\n",
    "        # YES\n",
    "        if np.random.random() < 0.3:\n",
    "            ALEX_YES += 1\n",
    "            YES += 1\n",
    "\n",
    "        # NO\n",
    "        else:\n",
    "            ALEX_NO += 1\n",
    "            NO +=1"
   ]
  },
  {
   "cell_type": "code",
   "execution_count": 4,
   "id": "aaedd407-4547-47f1-b68b-9a6b608b83f5",
   "metadata": {},
   "outputs": [],
   "source": [
    "# create probabilities\n",
    "P_SAM = SAM / n_runs * 100\n",
    "P_SAM_YES = SAM_YES / n_runs * 100\n",
    "P_SAM_NO = SAM_NO / n_runs * 100\n",
    "P_ALEX = ALEX / n_runs * 100\n",
    "P_ALEX_YES = ALEX_YES / n_runs * 100\n",
    "P_ALEX_NO = ALEX_NO / n_runs * 100\n",
    "P_YES = YES / n_runs * 100\n",
    "P_NO = NO / n_runs * 100"
   ]
  },
  {
   "cell_type": "code",
   "execution_count": 5,
   "id": "e11fa0fb-91f1-42b3-a49e-fde4bd1e66ad",
   "metadata": {},
   "outputs": [
    {
     "name": "stdout",
     "output_type": "stream",
     "text": [
      "Sam is the coach: 59.97%\n",
      "Sam is the coach and you are the goalkeeper: 30.091%\n",
      "Sam is the coach and you are not the goalkeeper: 29.879%\n",
      "Alex is the coach: 40.03%\n",
      "Alex is the coach and you are the goalkeeper: 12.023%\n",
      "Alex is the coach and you are not the goalkeeper: 28.006999999999998%\n",
      "You are the goalkeeper: 42.114000000000004%\n",
      "You are not the goalkeeper: 57.886\n"
     ]
    }
   ],
   "source": [
    "print(f'Sam is the coach: {P_SAM}%')\n",
    "print(f'Sam is the coach and you are the goalkeeper: {P_SAM_YES}%')\n",
    "print(f'Sam is the coach and you are not the goalkeeper: {P_SAM_NO}%')\n",
    "print(f'Alex is the coach: {P_ALEX}%')\n",
    "print(f'Alex is the coach and you are the goalkeeper: {P_ALEX_YES}%')\n",
    "print(f'Alex is the coach and you are not the goalkeeper: {P_ALEX_NO}%')\n",
    "print(f'You are the goalkeeper: {P_YES}%')\n",
    "print(f'You are not the goalkeeper: {P_NO}')"
   ]
  },
  {
   "cell_type": "code",
   "execution_count": 6,
   "id": "c56e5f7d-5e59-485e-9cc7-1e456b81596d",
   "metadata": {},
   "outputs": [
    {
     "name": "stdout",
     "output_type": "stream",
     "text": [
      "0.7145129885548748\n"
     ]
    }
   ],
   "source": [
    "# P(Sam | goalkeeper)\n",
    "P_SAM_GOAL = P_SAM_YES / P_YES\n",
    "print(P_SAM_GOAL)"
   ]
  },
  {
   "cell_type": "code",
   "execution_count": null,
   "id": "386d4070-2c21-4c93-8e68-31d64bfda3b4",
   "metadata": {},
   "outputs": [],
   "source": []
  }
 ],
 "metadata": {
  "kernelspec": {
   "display_name": "Python 3",
   "language": "python",
   "name": "python3"
  },
  "language_info": {
   "codemirror_mode": {
    "name": "ipython",
    "version": 3
   },
   "file_extension": ".py",
   "mimetype": "text/x-python",
   "name": "python",
   "nbconvert_exporter": "python",
   "pygments_lexer": "ipython3",
   "version": "3.8.8"
  }
 },
 "nbformat": 4,
 "nbformat_minor": 5
}
