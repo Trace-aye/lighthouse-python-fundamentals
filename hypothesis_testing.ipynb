{
 "cells": [
  {
   "cell_type": "markdown",
   "id": "137cfe61-c825-4a90-91c4-61581000fbb3",
   "metadata": {},
   "source": [
    "## Hypothesis testing"
   ]
  },
  {
   "cell_type": "code",
   "execution_count": 5,
   "id": "97637ede-09bf-4c91-9781-15f6cbd61a02",
   "metadata": {},
   "outputs": [],
   "source": [
    "# import numpy\n",
    "import numpy as np\n",
    "\n",
    "# set a random seed to replicate results\n",
    "np.random.seed(42)\n",
    "\n",
    "# sales history in days\n",
    "history = 365\n",
    "\n",
    "# generate one-year sales for store A\n",
    "mean_A = 20\n",
    "std_A = 5\n",
    "shop_A_sales = np.random.normal(mean_A, std_A, history)\n",
    "\n",
    "# generate one-year sales for store B\n",
    "mean_B = 19.5\n",
    "std_B = 5\n",
    "shop_B_sales = np.random.normal(mean_B, std_B, history)"
   ]
  },
  {
   "cell_type": "markdown",
   "id": "eb041745-bba4-435e-b4e8-93d31b0daadc",
   "metadata": {},
   "source": [
    "## Set significance level"
   ]
  },
  {
   "cell_type": "code",
   "execution_count": 6,
   "id": "66d2e32f-6a2f-49db-b6c6-c431a7628a0e",
   "metadata": {},
   "outputs": [],
   "source": [
    "# set the significance level\n",
    "alpha = 0.05"
   ]
  },
  {
   "cell_type": "markdown",
   "id": "50c221b9-b03f-4e81-8512-02a6b18433c5",
   "metadata": {},
   "source": [
    "## Set the means"
   ]
  },
  {
   "cell_type": "code",
   "execution_count": 7,
   "id": "2e8ea044-b241-4837-b3ab-84765cf10afc",
   "metadata": {},
   "outputs": [
    {
     "name": "stdout",
     "output_type": "stream",
     "text": [
      "20.04973201106029\n",
      "19.309929401404304\n",
      "0.7398026096559853\n"
     ]
    }
   ],
   "source": [
    "# print the store A mean\n",
    "print(shop_A_sales.mean())\n",
    "\n",
    "# print the store B mean\n",
    "print(shop_B_sales.mean())\n",
    "\n",
    "# the differnce in the means\n",
    "observed_means_diff = shop_A_sales.mean() - shop_B_sales.mean()\n",
    "print(observed_means_diff)"
   ]
  },
  {
   "cell_type": "markdown",
   "id": "3435dc82-e351-4c46-b42a-2381a9ecd133",
   "metadata": {},
   "source": [
    "### Because the mean of sales in the store A is not so far from the mean of sales in the store B, and their standard deviations are equal, it is tough to decide if the sales are equal."
   ]
  },
  {
   "cell_type": "markdown",
   "id": "363e1146-111b-43b2-bdec-c8fa8ed489d8",
   "metadata": {},
   "source": [
    "## Use Central Limit Theorem (CLT) - the average of our samples' means will be the population mean."
   ]
  },
  {
   "cell_type": "code",
   "execution_count": 9,
   "id": "f312c245-cd48-4b78-ab12-252e90936588",
   "metadata": {},
   "outputs": [],
   "source": [
    "both_sales = np.concatenate((shop_A_sales, shop_B_sales))"
   ]
  },
  {
   "cell_type": "markdown",
   "id": "ac4d25eb-ec2e-4db2-bb87-d4494f9a273a",
   "metadata": {},
   "source": [
    "### perform permutation on both_sales and re-create the sales with this permutation data. A permutation is a random reordering of the entries in an array."
   ]
  },
  {
   "cell_type": "code",
   "execution_count": 10,
   "id": "72a4f151-8e6f-4a99-b746-8f2bf0c62b12",
   "metadata": {},
   "outputs": [],
   "source": [
    "# permutation\n",
    "sales_perm = np.random.permutation(both_sales)\n",
    "\n",
    "# permutation replicates \n",
    "perm_shop_A_sales = sales_perm[:len(shop_A_sales)]\n",
    "perm_shop_B_sales = sales_perm[len(shop_A_sales):]"
   ]
  },
  {
   "cell_type": "markdown",
   "id": "7408393b-2274-4b54-b494-cff75b5d0b08",
   "metadata": {},
   "source": [
    "### compute the difference between the permutation replicates means."
   ]
  },
  {
   "cell_type": "code",
   "execution_count": 11,
   "id": "e33b8794-95d8-4370-98c2-15a46d439ca8",
   "metadata": {},
   "outputs": [
    {
     "name": "stdout",
     "output_type": "stream",
     "text": [
      "0.21098789154327235\n"
     ]
    }
   ],
   "source": [
    "print(perm_shop_A_sales.mean() - perm_shop_B_sales.mean())"
   ]
  },
  {
   "cell_type": "markdown",
   "id": "f0f10cf4-f25b-4565-8680-03e2e3818c85",
   "metadata": {},
   "source": [
    "### We can see that there is a difference between the permutation replicates mean and the original sales mean. But this was only one permutation. Let's try 1,000 different permutations and store the differences of the permutation replicates means in a list."
   ]
  },
  {
   "cell_type": "code",
   "execution_count": 12,
   "id": "6113c283-bf7d-4fcf-90bb-064e6b9c5d2c",
   "metadata": {},
   "outputs": [],
   "source": [
    "# create an empty list to store the permutation replicates means\n",
    "perm_repl_means = []\n",
    "\n",
    "for _ in range(1000):\n",
    "    # permutation \n",
    "    sales_perm = np.random.permutation(both_sales)\n",
    "\n",
    "    # permutation replicates \n",
    "    perm_shop_A_sales = sales_perm[:len(shop_A_sales)]\n",
    "    perm_shop_B_sales = sales_perm[len(shop_A_sales):]\n",
    "\n",
    "    # permutation replicates mean\n",
    "    perm_repl_mean = perm_shop_A_sales.mean() - perm_shop_B_sales.mean()\n",
    "\n",
    "    # append perm_repl_mean to list\n",
    "    perm_repl_means.append(perm_repl_mean)"
   ]
  },
  {
   "cell_type": "markdown",
   "id": "99a59c4c-409c-488c-b3a7-5c68a78cdd06",
   "metadata": {},
   "source": [
    "## compute the p-value."
   ]
  },
  {
   "cell_type": "code",
   "execution_count": 14,
   "id": "3f0be20d-b783-4ace-93af-482144ea37db",
   "metadata": {},
   "outputs": [
    {
     "name": "stdout",
     "output_type": "stream",
     "text": [
      "p-value = 0.043\n"
     ]
    }
   ],
   "source": [
    "# compute the p-value\n",
    "p = np.sum(np.abs(perm_repl_means) >= observed_means_diff) / len(perm_repl_means)\n",
    "\n",
    "# print the result\n",
    "print('p-value =', p)"
   ]
  },
  {
   "cell_type": "code",
   "execution_count": 15,
   "id": "40d7d42d-f998-414c-866e-2f76d92d7457",
   "metadata": {},
   "outputs": [
    {
     "name": "stdout",
     "output_type": "stream",
     "text": [
      "H0 is rejected.\n"
     ]
    }
   ],
   "source": [
    "# final decision\n",
    "if p < alpha:\n",
    "    print('H0 is rejected.')\n",
    "else:\n",
    "    print('H0 is not rejected.')"
   ]
  },
  {
   "cell_type": "code",
   "execution_count": null,
   "id": "616fe233-cf4d-4c96-992d-c2d13ed1ab12",
   "metadata": {},
   "outputs": [],
   "source": []
  }
 ],
 "metadata": {
  "kernelspec": {
   "display_name": "Python 3",
   "language": "python",
   "name": "python3"
  },
  "language_info": {
   "codemirror_mode": {
    "name": "ipython",
    "version": 3
   },
   "file_extension": ".py",
   "mimetype": "text/x-python",
   "name": "python",
   "nbconvert_exporter": "python",
   "pygments_lexer": "ipython3",
   "version": "3.8.8"
  }
 },
 "nbformat": 4,
 "nbformat_minor": 5
}
