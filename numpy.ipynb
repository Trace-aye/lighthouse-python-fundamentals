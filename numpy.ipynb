{
 "cells": [
  {
   "cell_type": "code",
   "execution_count": 1,
   "id": "3b58d2bb-29c6-4a63-89b6-0f1f78ff6c67",
   "metadata": {},
   "outputs": [],
   "source": [
    "import numpy as np"
   ]
  },
  {
   "cell_type": "code",
   "execution_count": 47,
   "id": "61d463ca-5286-4c49-949e-e03b5ba3d932",
   "metadata": {},
   "outputs": [
    {
     "name": "stdout",
     "output_type": "stream",
     "text": [
      "[1 2 3]\n"
     ]
    }
   ],
   "source": [
    "a = np.array([1,2,3])\n",
    "print(a)"
   ]
  },
  {
   "cell_type": "code",
   "execution_count": 4,
   "id": "2d66285f-ef84-4519-8cf8-70b10de1493d",
   "metadata": {},
   "outputs": [
    {
     "name": "stdout",
     "output_type": "stream",
     "text": [
      "[[2.2 3.3 4.4]\n",
      " [5.5 6.6 7.7]]\n"
     ]
    }
   ],
   "source": [
    "b = np.array([[2.2,3.3,4.4],[5.5,6.6,7.7]])\n",
    "print(b)"
   ]
  },
  {
   "cell_type": "code",
   "execution_count": 9,
   "id": "dfa61447-ed83-4d29-ab6d-4d23100879d6",
   "metadata": {
    "tags": []
   },
   "outputs": [
    {
     "data": {
      "text/plain": [
       "1"
      ]
     },
     "execution_count": 9,
     "metadata": {},
     "output_type": "execute_result"
    }
   ],
   "source": [
    "#Get dimension\n",
    "a.ndim"
   ]
  },
  {
   "cell_type": "code",
   "execution_count": 10,
   "id": "466351cc-01d9-48ca-b040-8015e8528efb",
   "metadata": {},
   "outputs": [
    {
     "data": {
      "text/plain": [
       "2"
      ]
     },
     "execution_count": 10,
     "metadata": {},
     "output_type": "execute_result"
    }
   ],
   "source": [
    "b.ndim"
   ]
  },
  {
   "cell_type": "code",
   "execution_count": 20,
   "id": "5299d0c2-ec04-45cb-a67c-088277d5fafa",
   "metadata": {},
   "outputs": [
    {
     "name": "stdout",
     "output_type": "stream",
     "text": [
      "(3,)\n",
      "(2, 3)\n"
     ]
    }
   ],
   "source": [
    "#Get shape\n",
    "print(a.shape)\n",
    "print(b.shape)"
   ]
  },
  {
   "cell_type": "code",
   "execution_count": 21,
   "id": "a058ae8e-2548-4367-9e0e-a39091565a7f",
   "metadata": {},
   "outputs": [
    {
     "name": "stdout",
     "output_type": "stream",
     "text": [
      "int32\n",
      "float64\n"
     ]
    }
   ],
   "source": [
    "#Get data type\n",
    "print(a.dtype)\n",
    "print(b.dtype)"
   ]
  },
  {
   "cell_type": "code",
   "execution_count": 22,
   "id": "2453523a-147e-41e7-b823-66dd649f54db",
   "metadata": {},
   "outputs": [
    {
     "name": "stdout",
     "output_type": "stream",
     "text": [
      "4\n",
      "8\n"
     ]
    }
   ],
   "source": [
    "#Get bite size of array elements\n",
    "print(a.itemsize)\n",
    "print(b.itemsize)"
   ]
  },
  {
   "cell_type": "code",
   "execution_count": 23,
   "id": "0394bd16-f74c-446d-906a-3bdc7c3436bc",
   "metadata": {},
   "outputs": [
    {
     "name": "stdout",
     "output_type": "stream",
     "text": [
      "3\n",
      "6\n"
     ]
    }
   ],
   "source": [
    "#Get array size\n",
    "print(a.size)\n",
    "print(b.size)"
   ]
  },
  {
   "cell_type": "code",
   "execution_count": 24,
   "id": "58bd4f46-9329-4010-ae45-5fd5e5cf7e6c",
   "metadata": {},
   "outputs": [
    {
     "name": "stdout",
     "output_type": "stream",
     "text": [
      "12\n",
      "48\n"
     ]
    }
   ],
   "source": [
    "#Get total size (same as size * itemsize)\n",
    "print(a.nbytes)\n",
    "print(b.nbytes)"
   ]
  },
  {
   "cell_type": "code",
   "execution_count": 25,
   "id": "9eea3bde-1838-4d39-99e9-539753f37ac8",
   "metadata": {},
   "outputs": [
    {
     "data": {
      "text/plain": [
       "7.7"
      ]
     },
     "execution_count": 25,
     "metadata": {},
     "output_type": "execute_result"
    }
   ],
   "source": [
    "#Get specific element\n",
    "b[1,2]"
   ]
  },
  {
   "cell_type": "code",
   "execution_count": 26,
   "id": "afa1fbf5-0c77-4a70-af71-eb420334a4bd",
   "metadata": {},
   "outputs": [
    {
     "data": {
      "text/plain": [
       "array([2.2, 3.3, 4.4])"
      ]
     },
     "execution_count": 26,
     "metadata": {},
     "output_type": "execute_result"
    }
   ],
   "source": [
    "#Get a row\n",
    "b[0, :]"
   ]
  },
  {
   "cell_type": "code",
   "execution_count": 27,
   "id": "f2df7f6f-4a19-47b8-bd42-7a037afec42c",
   "metadata": {},
   "outputs": [
    {
     "data": {
      "text/plain": [
       "array([3.3, 6.6])"
      ]
     },
     "execution_count": 27,
     "metadata": {},
     "output_type": "execute_result"
    }
   ],
   "source": [
    "#Get a column\n",
    "b[:, 1]"
   ]
  },
  {
   "cell_type": "code",
   "execution_count": 31,
   "id": "45ba4dfd-578b-4b00-90d6-a957174f3778",
   "metadata": {},
   "outputs": [
    {
     "name": "stdout",
     "output_type": "stream",
     "text": [
      "[[0. 0. 0. 0.]\n",
      " [0. 0. 0. 0.]]\n",
      "[[[1 1 1 1]\n",
      "  [1 1 1 1]\n",
      "  [1 1 1 1]]\n",
      "\n",
      " [[1 1 1 1]\n",
      "  [1 1 1 1]\n",
      "  [1 1 1 1]]]\n"
     ]
    }
   ],
   "source": [
    "#Init arrays with a start value\n",
    "c = np.zeros((2,4))\n",
    "print(c)\n",
    "d = np.ones((2,3,4), int)\n",
    "print(d)"
   ]
  },
  {
   "cell_type": "code",
   "execution_count": 33,
   "id": "a7db7dd9-df53-410d-b4e7-ba3021cee9ec",
   "metadata": {},
   "outputs": [
    {
     "name": "stdout",
     "output_type": "stream",
     "text": [
      "[[7 7]\n",
      " [7 7]]\n"
     ]
    }
   ],
   "source": [
    "#Init array with start value 7\n",
    "e = np.full((2,2), 7, int)\n",
    "print(e)"
   ]
  },
  {
   "cell_type": "code",
   "execution_count": 36,
   "id": "dc3a89de-71d8-455b-be2f-0b38c51874cf",
   "metadata": {},
   "outputs": [
    {
     "name": "stdout",
     "output_type": "stream",
     "text": [
      "[[0.34409516 0.47906298 0.00903422]\n",
      " [0.46164697 0.9945451  0.13555723]]\n"
     ]
    }
   ],
   "source": [
    "#Init array with random decimal numbers\n",
    "f = np.random.rand(2,3)\n",
    "print(f)"
   ]
  },
  {
   "cell_type": "code",
   "execution_count": 38,
   "id": "0193c21a-fecd-4d50-9e1b-4b0b4bdcb0ae",
   "metadata": {},
   "outputs": [
    {
     "data": {
      "text/plain": [
       "array([[31, 81],\n",
       "       [31, 69],\n",
       "       [20, 45],\n",
       "       [66, 76]])"
      ]
     },
     "execution_count": 38,
     "metadata": {},
     "output_type": "execute_result"
    }
   ],
   "source": [
    "#Init array with random ints\n",
    "np.random.randint(100, size=(4,2))"
   ]
  },
  {
   "cell_type": "code",
   "execution_count": 39,
   "id": "43a26b21-e2ba-45ff-a455-04ce2921e012",
   "metadata": {},
   "outputs": [
    {
     "data": {
      "text/plain": [
       "array([[ 9, 14, 18,  4, -3],\n",
       "       [-3, -2, -1, 13, 16],\n",
       "       [16, 19, 15, -1,  7]])"
      ]
     },
     "execution_count": 39,
     "metadata": {},
     "output_type": "execute_result"
    }
   ],
   "source": [
    "np.random.randint(-5,20, size=(3,5))"
   ]
  },
  {
   "cell_type": "code",
   "execution_count": 40,
   "id": "efbcef6c-af91-499b-b91a-e6e9ca36b671",
   "metadata": {},
   "outputs": [
    {
     "data": {
      "text/plain": [
       "array([[1., 0., 0., 0., 0.],\n",
       "       [0., 1., 0., 0., 0.],\n",
       "       [0., 0., 1., 0., 0.],\n",
       "       [0., 0., 0., 1., 0.],\n",
       "       [0., 0., 0., 0., 1.]])"
      ]
     },
     "execution_count": 40,
     "metadata": {},
     "output_type": "execute_result"
    }
   ],
   "source": [
    "#The identity matrix\n",
    "np.identity(5)"
   ]
  },
  {
   "cell_type": "code",
   "execution_count": 42,
   "id": "da32e7c1-26ca-46fe-9247-fbe136c13482",
   "metadata": {},
   "outputs": [
    {
     "data": {
      "text/plain": [
       "array([2, 4, 6])"
      ]
     },
     "execution_count": 42,
     "metadata": {},
     "output_type": "execute_result"
    }
   ],
   "source": [
    "#Math\n",
    "a * 2"
   ]
  },
  {
   "cell_type": "code",
   "execution_count": 48,
   "id": "36180c08-d7f3-4c3a-a3f2-7090d0b769f6",
   "metadata": {},
   "outputs": [
    {
     "data": {
      "text/plain": [
       "array([3, 4, 5])"
      ]
     },
     "execution_count": 48,
     "metadata": {},
     "output_type": "execute_result"
    }
   ],
   "source": [
    "a += 2\n",
    "a"
   ]
  },
  {
   "cell_type": "code",
   "execution_count": 54,
   "id": "fcdecc0c-772e-4004-86e0-f9de6510cfba",
   "metadata": {},
   "outputs": [
    {
     "name": "stdout",
     "output_type": "stream",
     "text": [
      "2.2\n",
      "7.7\n",
      "12\n",
      "[ 7.7  9.9 12.1]\n",
      "[ 9.9 19.8]\n"
     ]
    }
   ],
   "source": [
    "#Statistics\n",
    "print(np.min(b))\n",
    "print(np.max(b))\n",
    "print(np.sum(a))\n",
    "print(np.sum(b, axis=0)) #adds each column\n",
    "print(np.sum(b, axis=1)) #adds each row"
   ]
  },
  {
   "cell_type": "code",
   "execution_count": 60,
   "id": "c22af7e8-7845-4e69-abe5-c13dde46d500",
   "metadata": {},
   "outputs": [
    {
     "name": "stdout",
     "output_type": "stream",
     "text": [
      "[[1 2 3 4]\n",
      " [5 6 7 8]]\n",
      "[[1 2]\n",
      " [3 4]\n",
      " [5 6]\n",
      " [7 8]]\n"
     ]
    }
   ],
   "source": [
    "#Reorganizing\n",
    "before = np.array([[1,2,3,4],[5,6,7,8]])\n",
    "print(before)\n",
    "after = before.reshape(4,2)\n",
    "print(after)"
   ]
  },
  {
   "cell_type": "code",
   "execution_count": 63,
   "id": "3d0ee77a-8840-4b6e-b94a-ca6d9d58f973",
   "metadata": {},
   "outputs": [
    {
     "data": {
      "text/plain": [
       "array([[1, 2, 3],\n",
       "       [4, 5, 6],\n",
       "       [1, 2, 3],\n",
       "       [4, 5, 6]])"
      ]
     },
     "execution_count": 63,
     "metadata": {},
     "output_type": "execute_result"
    }
   ],
   "source": [
    "#Vertical Stack\n",
    "v1 = np.array([1,2,3])\n",
    "v2 = np.array([4,5,6])\n",
    "np.vstack([v1,v2,v1,v2])"
   ]
  },
  {
   "cell_type": "code",
   "execution_count": 65,
   "id": "0a87f31d-7b25-4742-84d9-16f0adcd9071",
   "metadata": {},
   "outputs": [
    {
     "data": {
      "text/plain": [
       "array([[1, 2, 5, 6, 1, 2],\n",
       "       [3, 4, 7, 8, 3, 4]])"
      ]
     },
     "execution_count": 65,
     "metadata": {},
     "output_type": "execute_result"
    }
   ],
   "source": [
    "#Horizontal stack\n",
    "h1 = np.array([[1,2],[3,4]])\n",
    "h2 = np.array([[5,6],[7,8]])\n",
    "st1 = np.hstack([h1,h2,h1])\n",
    "st1"
   ]
  },
  {
   "cell_type": "code",
   "execution_count": 74,
   "id": "88bbde91-86da-407c-b121-9a049f6b9124",
   "metadata": {},
   "outputs": [
    {
     "name": "stdout",
     "output_type": "stream",
     "text": [
      "[6 7 8]\n",
      "[[1 2]\n",
      " [3 4]]\n",
      "[1 7 6 4]\n"
     ]
    }
   ],
   "source": [
    "#Advanced indexing\n",
    "print(st1[st1>5])\n",
    "print(st1[0:2,0:2])\n",
    "print(st1[[0,1,0,1], [0,2,3,5]])"
   ]
  },
  {
   "cell_type": "code",
   "execution_count": null,
   "id": "99e6e22b-9615-4155-bd4a-27d4df072982",
   "metadata": {},
   "outputs": [],
   "source": []
  }
 ],
 "metadata": {
  "kernelspec": {
   "display_name": "Python 3",
   "language": "python",
   "name": "python3"
  },
  "language_info": {
   "codemirror_mode": {
    "name": "ipython",
    "version": 3
   },
   "file_extension": ".py",
   "mimetype": "text/x-python",
   "name": "python",
   "nbconvert_exporter": "python",
   "pygments_lexer": "ipython3",
   "version": "3.8.8"
  }
 },
 "nbformat": 4,
 "nbformat_minor": 5
}
